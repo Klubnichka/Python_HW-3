{
 "cells": [
  {
   "cell_type": "markdown",
   "metadata": {},
   "source": [
    "# Задания по семинару 3\n",
    "# Логические переменные, операции сравнения, тернарный оператор"
   ]
  },
  {
   "cell_type": "markdown",
   "metadata": {},
   "source": [
    "1) Добиться вывода на экран сообщения ``\"Правильный ответ!\"``"
   ]
  },
  {
   "cell_type": "code",
   "execution_count": 4,
   "metadata": {},
   "outputs": [
    {
     "name": "stdout",
     "output_type": "stream",
     "text": [
      "Введите первую строку: fygjhtihjuk\n",
      "Введите целое число: 2\n",
      "Введите вторую строку: \n"
     ]
    }
   ],
   "source": [
    "s1 = input('Введите первую строку: ')\n",
    "a = int(input('Введите целое число: '))\n",
    "s2 = input('Введите вторую строку: ')"
   ]
  },
  {
   "cell_type": "code",
   "execution_count": 5,
   "metadata": {
    "scrolled": true
   },
   "outputs": [
    {
     "name": "stdout",
     "output_type": "stream",
     "text": [
      "Правильный ответ!\n"
     ]
    }
   ],
   "source": [
    "if s1 and not a - 7 // 3 and not s2:\n",
    "    print('Правильный ответ!')\n",
    "else:\n",
    "    print('Ответ неправильный, попробуйте еще раз.')"
   ]
  },
  {
   "cell_type": "markdown",
   "metadata": {},
   "source": [
    "2) Проверить, является ли введенное пользователем число **четным**."
   ]
  },
  {
   "cell_type": "code",
   "execution_count": 13,
   "metadata": {},
   "outputs": [
    {
     "name": "stdout",
     "output_type": "stream",
     "text": [
      "4\n",
      "Является четным числом\n"
     ]
    }
   ],
   "source": [
    "d=int(input())\n",
    "if d%2==0 :\n",
    "    print(\"Является четным числом\")\n",
    "else:\n",
    "    print(\"Не является четным числом\")\n",
    "    "
   ]
  },
  {
   "cell_type": "markdown",
   "metadata": {},
   "source": [
    "3) Проверить, является ли введенная пользователем строка **палиндромом**."
   ]
  },
  {
   "cell_type": "code",
   "execution_count": 25,
   "metadata": {},
   "outputs": [
    {
     "name": "stdout",
     "output_type": "stream",
     "text": [
      "SDFFDS\n",
      "да\n"
     ]
    }
   ],
   "source": [
    "st=str(input())\n",
    "if st[::]==st[::-1]:\n",
    "    print('да')\n",
    "else:\n",
    "    print('нет')"
   ]
  },
  {
   "cell_type": "markdown",
   "metadata": {},
   "source": [
    "4) Проверить, какая версия Python сейчас выполняется.\n",
    "\n",
    "В случае, если выполняется **32-битная** версия, вывести предупреждение: ``\"Необходимо установить Python 64-bit!\"``, иначе ничего не предпринимать."
   ]
  },
  {
   "cell_type": "code",
   "execution_count": 32,
   "metadata": {},
   "outputs": [],
   "source": [
    "import sys\n",
    "a=sys.version\n",
    "if \"32 bit\" in a:\n",
    "    print(\"Необходимо установить Python 64-bit!\")\n",
    "\n",
    "    \n"
   ]
  },
  {
   "cell_type": "markdown",
   "metadata": {},
   "source": [
    "5) Запросить пользователя ввести год.\n",
    "\n",
    "Проверить, является ли введенный год високосным.\n",
    "\n",
    "Справка:\n",
    "\n",
    "* год, номер которого кратен 400, — високосный;\n",
    "* остальные годы, номер которых кратен 100, — невисокосные;\n",
    "* остальные годы, номер которых кратен 4, — високосные.\n",
    "\n",
    "-- Википедия\n",
    "\n",
    "http://www.adm.yar.ru/arch_serv/2000/Microsoft/content/vis.htm"
   ]
  },
  {
   "cell_type": "code",
   "execution_count": 35,
   "metadata": {},
   "outputs": [
    {
     "name": "stdout",
     "output_type": "stream",
     "text": [
      "234\n",
      "Введённый год не является високосным\n"
     ]
    }
   ],
   "source": [
    "a=int(input())\n",
    "if a%400==0 | (a%4==0 & a%100!=0):\n",
    "    print(\"Введённый год является високосным\")\n",
    "else:\n",
    "    print(\"Введённый год не является високосным\")"
   ]
  },
  {
   "cell_type": "markdown",
   "metadata": {},
   "source": [
    "6) Проверить выполнение следующих логических тождеств (законов де Моргана) для всех значений ``А`` и ``В`` (*FF, FT, TF, TT*)."
   ]
  },
  {
   "cell_type": "markdown",
   "metadata": {},
   "source": [
    "$$\\overline{A \\lor B} = \\overline{A}\\land\\overline{B}$$\n",
    "\n",
    "$$\\overline{A \\land B} = \\overline{A}\\lor\\overline{B}$$"
   ]
  },
  {
   "cell_type": "code",
   "execution_count": 1,
   "metadata": {},
   "outputs": [],
   "source": [
    "# по очереди перебрать все возможные комбинации\n",
    "A = False\n",
    "B = True"
   ]
  },
  {
   "cell_type": "code",
   "execution_count": 14,
   "metadata": {},
   "outputs": [
    {
     "name": "stdout",
     "output_type": "stream",
     "text": [
      "  A  |  B  |not(A v B)|not A ^ not B|not(A ^ B)|notA v not B\n",
      "  0  |  1  |    0     |      0      |    1     |      1    \n"
     ]
    }
   ],
   "source": [
    "# необходимо вписать недостающие аргументы функции format\n",
    "print(\"\"\"  A  |  B  |not(A v B)|not A ^ not B|not(A ^ B)|notA v not B\n",
    "{0:^5}|{1:^5}|{2:^10}|  {3:^9}  |{4:^10}|  {5:^9}\"\"\".format(A, B, not (A or B), not A and not B, not(A and B), not A or not B))"
   ]
  },
  {
   "cell_type": "markdown",
   "metadata": {},
   "source": [
    "7) Записать систему неравенств в **ОДНУ** строку **БЕЗ** использования ``and, or, True, False`` (разрешаются только операции сравнения)"
   ]
  },
  {
   "cell_type": "markdown",
   "metadata": {},
   "source": [
    "\\begin{cases} x^2 > 6 - x \\\\ x > 0 \\end{cases}"
   ]
  },
  {
   "cell_type": "markdown",
   "metadata": {},
   "source": [
    "Проверить на ``x = -7`` (False), -5 (False), 3 (True), 2 (False), 1 (False), 0 (False)."
   ]
  },
  {
   "cell_type": "code",
   "execution_count": 40,
   "metadata": {},
   "outputs": [
    {
     "name": "stdout",
     "output_type": "stream",
     "text": [
      "x = 0: False\n"
     ]
    }
   ],
   "source": [
    "x = 0\n",
    "res = 0<x>6-x*x  # система неравенств в одну строку для x\n",
    "print('x = {}: {}'.format(x, res))"
   ]
  },
  {
   "cell_type": "markdown",
   "metadata": {},
   "source": [
    "8) Переписать все следующие условия в **ОДНУ** строку (разрешаются только операции сравнения)."
   ]
  },
  {
   "cell_type": "markdown",
   "metadata": {},
   "source": [
    "\\begin{cases} 0 \\leq a \\leq c \\\\ 0 \\leq b < c \\\\ b = 2 \\\\ 0 \\leq c < 5 \\end{cases}"
   ]
  },
  {
   "cell_type": "markdown",
   "metadata": {},
   "source": [
    "Проверить на следующих значения a, b, c:"
   ]
  },
  {
   "cell_type": "code",
   "execution_count": 15,
   "metadata": {},
   "outputs": [],
   "source": [
    "a = 1\n",
    "b = 2\n",
    "c = 3"
   ]
  },
  {
   "cell_type": "code",
   "execution_count": 16,
   "metadata": {},
   "outputs": [
    {
     "data": {
      "text/plain": [
       "True"
      ]
     },
     "execution_count": 16,
     "metadata": {},
     "output_type": "execute_result"
    }
   ],
   "source": [
    "0<=a<=c<5>b"
   ]
  },
  {
   "cell_type": "markdown",
   "metadata": {},
   "source": [
    "9) Записать перечисленные строки в порядке возрастания.\n",
    "\n",
    "Для проверки воспользуйтесь цепочкой из последовательных сравнений ``s1 < s2 < s3 < ...``, которая должна возвращать True:"
   ]
  },
  {
   "cell_type": "raw",
   "metadata": {},
   "source": [
    "s1 = 'string'\n",
    "s2 = 'String'\n",
    "s3 = 'strinG'\n",
    "s4 = 'stringlong'\n",
    "s5 = ' string'\n",
    "s6 = 'string '\n",
    "s7 = '_string'"
   ]
  },
  {
   "cell_type": "code",
   "execution_count": 17,
   "metadata": {},
   "outputs": [],
   "source": [
    "s1 = 'string'\n",
    "s2 = 'String'\n",
    "s3 = 'strinG'\n",
    "s4 = 'stringlong'\n",
    "s5 = ' string'\n",
    "s6 = 'string '\n",
    "s7 = '_string'"
   ]
  },
  {
   "cell_type": "code",
   "execution_count": 18,
   "metadata": {},
   "outputs": [
    {
     "data": {
      "text/plain": [
       "True"
      ]
     },
     "execution_count": 18,
     "metadata": {},
     "output_type": "execute_result"
    }
   ],
   "source": [
    "s5<s2<s7<s3<s1<s6"
   ]
  },
  {
   "cell_type": "markdown",
   "metadata": {},
   "source": [
    "10) Если в произвольной входной строке (запросить ввод пользователя) встречается ``\"!!!\"``, выводить на печать ``\"exclaim\"``.\n",
    "\n",
    "При этом если строка **начинается** с ``\"!!!\"``, вместо этого выводить ``\"Nota bene: \"`` и исходную строку без восклицательных знаков.\n",
    "\n",
    "Если встречается ``\"???\"``, то выводить ``\"question\"``.\n",
    "\n",
    "Если встречаются **обе** последовательности (``\"!!!\"`` и ``\"???\"``), то ничего не выводить.\n",
    "\n",
    "В других случаях выводить ``\"random\"``."
   ]
  },
  {
   "cell_type": "code",
   "execution_count": 5,
   "metadata": {},
   "outputs": [
    {
     "name": "stdout",
     "output_type": "stream",
     "text": [
      "SRETDRYFUL!!???jhgftyrewa!!!!!\n",
      "\n"
     ]
    }
   ],
   "source": [
    "a=str(input())\n",
    "b=a[0:3:1]\n",
    "if (\"!!!\" in a) & (\"???\" in a):\n",
    "    print()\n",
    "else:\n",
    "    if b==\"!!!\" :\n",
    "        print(\"Nota bene: \",a[3:len(a):1] )\n",
    "    else:\n",
    "        if \"!!!\" in a:\n",
    "            print(\"exclaim\")\n",
    "        else:\n",
    "            if \"???\"in a:\n",
    "                print(\"question\")\n",
    "            else:\n",
    "                print:(\"random\")\n",
    "                    \n",
    "\n",
    "    \n",
    "              "
   ]
  },
  {
   "cell_type": "markdown",
   "metadata": {},
   "source": [
    "11) В задании 10) добавить проверку на длину входной строки.\n",
    "\n",
    "Если длина строки больше 15 символов, выполнять инструкцию из задания 10). В противном случае выводить исходную строку **три раза** подряд через дефис без изменений, если количество символов **нечетное**, иначе - **четыре раза**."
   ]
  },
  {
   "cell_type": "code",
   "execution_count": 7,
   "metadata": {},
   "outputs": [
    {
     "name": "stdout",
     "output_type": "stream",
     "text": [
      "fsdxcv\n",
      "fsdxcv - fsdxcv - fsdxcv\n"
     ]
    }
   ],
   "source": [
    "a=str(input())\n",
    "b=a[0:3:1]\n",
    "if len(a)<16:\n",
    "    print(a,\"-\",a,\"-\",a)\n",
    "else:\n",
    "    if (\"!!!\" in a) & (\"???\" in a):\n",
    "        print()\n",
    "    else:\n",
    "        if b==\"!!!\" :\n",
    "            print(\"Nota bene: \",a[3:len(a):1] )\n",
    "        else:\n",
    "            if \"!!!\" in a:\n",
    "                print(\"exclaim\")\n",
    "            else:\n",
    "                if \"???\"in a:\n",
    "                    print(\"question\")\n",
    "                else:\n",
    "                    print:(\"random\")"
   ]
  },
  {
   "cell_type": "markdown",
   "metadata": {},
   "source": [
    "12) Протестировать тернарный оператор\n",
    "\n",
    "``x = a if condition else b``\n",
    "\n",
    "на примере.\n",
    "\n",
    "В переменную ``friend`` записать ``x``, если в ``x`` встречается слово ``\"banana\"``, в ином случае записать в нее ``y``.\n",
    "\n",
    "Пример:"
   ]
  },
  {
   "cell_type": "code",
   "execution_count": 41,
   "metadata": {},
   "outputs": [
    {
     "data": {
      "text/plain": [
       "'banana monkey'"
      ]
     },
     "execution_count": 41,
     "metadata": {},
     "output_type": "execute_result"
    }
   ],
   "source": [
    "x = \"banana monkey\"\n",
    "y = \"orangutan\"\n",
    "friend = x if \"banana\" in x else y\n",
    "\n",
    "friend"
   ]
  }
 ],
 "metadata": {
  "anaconda-cloud": {},
  "kernelspec": {
   "display_name": "Python 3",
   "language": "python",
   "name": "python3"
  },
  "language_info": {
   "codemirror_mode": {
    "name": "ipython",
    "version": 3
   },
   "file_extension": ".py",
   "mimetype": "text/x-python",
   "name": "python",
   "nbconvert_exporter": "python",
   "pygments_lexer": "ipython3",
   "version": "3.6.5"
  }
 },
 "nbformat": 4,
 "nbformat_minor": 2
}
